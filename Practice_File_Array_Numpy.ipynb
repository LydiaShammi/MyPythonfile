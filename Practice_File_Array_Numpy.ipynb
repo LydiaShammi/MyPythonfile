{
  "nbformat": 4,
  "nbformat_minor": 0,
  "metadata": {
    "colab": {
      "provenance": [],
      "authorship_tag": "ABX9TyMj0pI14V3TYIDggARfj2uy",
      "include_colab_link": true
    },
    "kernelspec": {
      "name": "python3",
      "display_name": "Python 3"
    },
    "language_info": {
      "name": "python"
    }
  },
  "cells": [
    {
      "cell_type": "markdown",
      "metadata": {
        "id": "view-in-github",
        "colab_type": "text"
      },
      "source": [
        "<a href=\"https://colab.research.google.com/github/LydiaShammi/MyPythonfile/blob/main/Practice_File_Array_Numpy.ipynb\" target=\"_parent\"><img src=\"https://colab.research.google.com/assets/colab-badge.svg\" alt=\"Open In Colab\"/></a>"
      ]
    },
    {
      "cell_type": "code",
      "execution_count": null,
      "metadata": {
        "colab": {
          "base_uri": "https://localhost:8080/"
        },
        "id": "Aci8wz4I3V2M",
        "outputId": "d60c5512-54ef-4ba3-82eb-2c5018881b4d"
      },
      "outputs": [
        {
          "output_type": "execute_result",
          "data": {
            "text/plain": [
              "array(['2', '5', '8', '11', '14', '17', '20'], dtype='<U2')"
            ]
          },
          "metadata": {},
          "execution_count": 3
        }
      ],
      "source": [
        "import numpy as np\n",
        "arr=np.array([2,5,8,11,14,17,20], dtype='U')\n",
        "arr"
      ]
    },
    {
      "cell_type": "code",
      "source": [
        "arr=np.array([2,5,8,11,14,17,20], dtype='str')\n",
        "arr"
      ],
      "metadata": {
        "colab": {
          "base_uri": "https://localhost:8080/"
        },
        "id": "0QVZB8s45anV",
        "outputId": "dfc0e3d5-3ce5-404b-b6e4-bf00608c0daa"
      },
      "execution_count": null,
      "outputs": [
        {
          "output_type": "execute_result",
          "data": {
            "text/plain": [
              "array(['2', '5', '8', '11', '14', '17', '20'], dtype='<U2')"
            ]
          },
          "metadata": {},
          "execution_count": 4
        }
      ]
    },
    {
      "cell_type": "code",
      "source": [
        "arr=np.array([2,5,8,11,14,17])\n",
        "ar=arr.reshape((2,3))\n",
        "print(ar)\n",
        "ar.ndim"
      ],
      "metadata": {
        "colab": {
          "base_uri": "https://localhost:8080/"
        },
        "id": "SL_M2QFj5jl9",
        "outputId": "72c933d4-5ecb-45e6-8564-cb3c9a98a421"
      },
      "execution_count": null,
      "outputs": [
        {
          "output_type": "stream",
          "name": "stdout",
          "text": [
            "[[ 2  5  8]\n",
            " [11 14 17]]\n"
          ]
        },
        {
          "output_type": "execute_result",
          "data": {
            "text/plain": [
              "2"
            ]
          },
          "metadata": {},
          "execution_count": 10
        }
      ]
    },
    {
      "cell_type": "code",
      "source": [
        "a1=np.array([10,20,30])\n",
        "a= a1.reshape(3,1)\n",
        "print(a)\n",
        "b1=np.array([5,6,7])\n",
        "b= b1.reshape(1,3)\n",
        "print('\\n',b)\n",
        "c=a+b\n",
        "print('\\n',c)\n",
        "print(c.ndim)\n",
        "print(c.shape)"
      ],
      "metadata": {
        "colab": {
          "base_uri": "https://localhost:8080/"
        },
        "id": "e36mDGf86XG7",
        "outputId": "ea87692d-4712-4c7d-fd00-0cfb8fe5e3ef"
      },
      "execution_count": null,
      "outputs": [
        {
          "output_type": "stream",
          "name": "stdout",
          "text": [
            "[[10]\n",
            " [20]\n",
            " [30]]\n",
            "\n",
            " [[5 6 7]]\n",
            "\n",
            " [[15 16 17]\n",
            " [25 26 27]\n",
            " [35 36 37]]\n",
            "2\n",
            "(3, 3)\n"
          ]
        }
      ]
    },
    {
      "cell_type": "code",
      "source": [
        "a1=np.array([10,20,30]).reshape(3,1)\n",
        "b1=np.array([5,6,7]).reshape(1,3)\n",
        "c=a+b\n",
        "print('\\n',c)\n",
        "print(c.ndim)\n",
        "print(c.shape)"
      ],
      "metadata": {
        "colab": {
          "base_uri": "https://localhost:8080/"
        },
        "id": "-l_FsVln8z1m",
        "outputId": "fea27eca-ebdf-44a6-fe30-2eab41267372"
      },
      "execution_count": null,
      "outputs": [
        {
          "output_type": "stream",
          "name": "stdout",
          "text": [
            "\n",
            " [[15 16 17]\n",
            " [25 26 27]\n",
            " [35 36 37]]\n",
            "2\n",
            "(3, 3)\n"
          ]
        }
      ]
    },
    {
      "cell_type": "code",
      "source": [
        "a=np.random.rand(5,4)\n",
        "np.array_split(a,2)"
      ],
      "metadata": {
        "colab": {
          "base_uri": "https://localhost:8080/"
        },
        "id": "5JFW31RoCV7S",
        "outputId": "e15e825d-daea-4f2a-c9b1-e446cf56b160"
      },
      "execution_count": null,
      "outputs": [
        {
          "output_type": "execute_result",
          "data": {
            "text/plain": [
              "[array([[0.58092582, 0.18786265, 0.6663882 , 0.62069134],\n",
              "        [0.73121863, 0.56146992, 0.84352302, 0.98741259],\n",
              "        [0.22105884, 0.49448715, 0.74374512, 0.71746702]]),\n",
              " array([[0.44451504, 0.12671845, 0.70814357, 0.27466895],\n",
              "        [0.55564024, 0.44323264, 0.17009611, 0.62334985]])]"
            ]
          },
          "metadata": {},
          "execution_count": 29
        }
      ]
    },
    {
      "cell_type": "code",
      "source": [
        "a=np.random.rand(5,4)\n",
        "np.hsplit(a,2)\n"
      ],
      "metadata": {
        "colab": {
          "base_uri": "https://localhost:8080/"
        },
        "id": "0JSQfrSWDGiT",
        "outputId": "e8154134-92a1-47eb-dff0-d632daa05ed8"
      },
      "execution_count": null,
      "outputs": [
        {
          "output_type": "execute_result",
          "data": {
            "text/plain": [
              "[array([[0.70423855, 0.98292259],\n",
              "        [0.59853117, 0.92186855],\n",
              "        [0.49030224, 0.17792119],\n",
              "        [0.03145246, 0.99512681],\n",
              "        [0.5464484 , 0.27909814]]), array([[7.68397976e-01, 8.86621998e-01],\n",
              "        [6.59560631e-01, 7.01416829e-01],\n",
              "        [5.55346532e-01, 1.23243360e-01],\n",
              "        [6.63059679e-01, 9.30799653e-01],\n",
              "        [6.37677878e-05, 3.08611674e-01]])]"
            ]
          },
          "metadata": {},
          "execution_count": 38
        }
      ]
    },
    {
      "cell_type": "code",
      "source": [
        "a1=np.array([[6,5,4],\n",
        "            [3,2,1]])\n",
        "b1=np.random.randint(1,10,(2,3))\n",
        "print(a1)\n",
        "print(b1)\n",
        "np.vstack((a1,b1))"
      ],
      "metadata": {
        "colab": {
          "base_uri": "https://localhost:8080/"
        },
        "id": "GhDq7MzoD7rq",
        "outputId": "4d5b732c-9a87-4866-aad3-2ad50569d046"
      },
      "execution_count": null,
      "outputs": [
        {
          "output_type": "stream",
          "name": "stdout",
          "text": [
            "[[6 5 4]\n",
            " [3 2 1]]\n",
            "[[1 7 4]\n",
            " [6 1 9]]\n"
          ]
        },
        {
          "output_type": "execute_result",
          "data": {
            "text/plain": [
              "array([[6, 5, 4],\n",
              "       [3, 2, 1],\n",
              "       [1, 7, 4],\n",
              "       [6, 1, 9]])"
            ]
          },
          "metadata": {},
          "execution_count": 53
        }
      ]
    },
    {
      "cell_type": "code",
      "source": [
        "a1=np.array([[6,5,4],\n",
        "            [3,2,1]])\n",
        "b1=np.random.randint(1,10,(2,3))\n",
        "print(a1)\n",
        "print(b1)\n",
        "arr=np.concatenate((a1,b1))\n",
        "print(arr)\n",
        "s=arr.flatten()\n",
        "print(s)"
      ],
      "metadata": {
        "colab": {
          "base_uri": "https://localhost:8080/"
        },
        "id": "PFF1hcj9GVkY",
        "outputId": "9a5db113-bde0-4b6d-aa97-201ed16f4e0a"
      },
      "execution_count": null,
      "outputs": [
        {
          "output_type": "stream",
          "name": "stdout",
          "text": [
            "[[6 5 4]\n",
            " [3 2 1]]\n",
            "[[8 8 1]\n",
            " [7 6 5]]\n",
            "[[6 5 4]\n",
            " [3 2 1]\n",
            " [8 8 1]\n",
            " [7 6 5]]\n",
            "[6 5 4 3 2 1 8 8 1 7 6 5]\n"
          ]
        }
      ]
    },
    {
      "cell_type": "code",
      "source": [
        "arr=np.random.randint(1,100,(5,10))\n",
        "print(arr,'\\n')\n",
        "print(arr.max(axis=1))\n",
        "print('\\n')\n",
        "print(arr.sum(axis=0))\n",
        "print('\\n')\n",
        "print(arr.mean())"
      ],
      "metadata": {
        "colab": {
          "base_uri": "https://localhost:8080/"
        },
        "id": "Ek2GJRBvMEKu",
        "outputId": "661a34bd-1b75-4145-96cc-54261b73dbe8"
      },
      "execution_count": null,
      "outputs": [
        {
          "output_type": "stream",
          "name": "stdout",
          "text": [
            "[[22 37 84 94 13 58 85 48  2 14]\n",
            " [29  6 93 39  2  1 76 39 24 71]\n",
            " [16 23 93 56 12 97 73 71 79 26]\n",
            " [84  7 48 95  4 27 44 58 37 75]\n",
            " [23 98 92 77  2 54 57 86 47 37]] \n",
            "\n",
            "[94 93 97 95 98]\n",
            "\n",
            "\n",
            "[174 171 410 361  33 237 335 302 189 223]\n",
            "\n",
            "\n",
            "48.7\n"
          ]
        }
      ]
    },
    {
      "cell_type": "code",
      "source": [
        "import pandas as pd\n",
        "arr=np.random.randint(0,9,10)\n",
        "print(arr)\n",
        "ser=pd.Series(arr,index=['i','ii','iii','iv','v']*2)\n",
        "print(ser)\n"
      ],
      "metadata": {
        "colab": {
          "base_uri": "https://localhost:8080/"
        },
        "id": "GNnH-5mtQnoJ",
        "outputId": "825c9b12-7180-440e-84ff-e0eff700947d"
      },
      "execution_count": null,
      "outputs": [
        {
          "output_type": "stream",
          "name": "stdout",
          "text": [
            "[8 8 7 1 0 1 8 2 6 3]\n",
            "i      8\n",
            "ii     8\n",
            "iii    7\n",
            "iv     1\n",
            "v      0\n",
            "i      1\n",
            "ii     8\n",
            "iii    2\n",
            "iv     6\n",
            "v      3\n",
            "dtype: int64\n"
          ]
        }
      ]
    }
  ]
}